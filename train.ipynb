{
 "cells": [
  {
   "cell_type": "code",
   "execution_count": 1,
   "id": "7bc4adc3",
   "metadata": {},
   "outputs": [
    {
     "ename": "ModuleNotFoundError",
     "evalue": "No module named 'torch'",
     "output_type": "error",
     "traceback": [
      "\u001b[31m---------------------------------------------------------------------------\u001b[39m",
      "\u001b[31mModuleNotFoundError\u001b[39m                       Traceback (most recent call last)",
      "\u001b[36mCell\u001b[39m\u001b[36m \u001b[39m\u001b[32mIn[1]\u001b[39m\u001b[32m, line 3\u001b[39m\n\u001b[32m      1\u001b[39m \u001b[38;5;28;01mimport\u001b[39;00m\u001b[38;5;250m \u001b[39m\u001b[34;01mpandas\u001b[39;00m\u001b[38;5;250m \u001b[39m\u001b[38;5;28;01mas\u001b[39;00m\u001b[38;5;250m \u001b[39m\u001b[34;01mpd\u001b[39;00m\n\u001b[32m      2\u001b[39m \u001b[38;5;28;01mimport\u001b[39;00m\u001b[38;5;250m \u001b[39m\u001b[34;01mnumpy\u001b[39;00m\u001b[38;5;250m \u001b[39m\u001b[38;5;28;01mas\u001b[39;00m\u001b[38;5;250m \u001b[39m\u001b[34;01mnp\u001b[39;00m\n\u001b[32m----> \u001b[39m\u001b[32m3\u001b[39m \u001b[38;5;28;01mimport\u001b[39;00m\u001b[38;5;250m \u001b[39m\u001b[34;01mtorch\u001b[39;00m\n\u001b[32m      4\u001b[39m \u001b[38;5;28;01mimport\u001b[39;00m\u001b[38;5;250m \u001b[39m\u001b[34;01mtorch\u001b[39;00m\u001b[34;01m.\u001b[39;00m\u001b[34;01mnn\u001b[39;00m\u001b[38;5;250m \u001b[39m\u001b[38;5;28;01mas\u001b[39;00m\u001b[38;5;250m \u001b[39m\u001b[34;01mnn\u001b[39;00m\n\u001b[32m      5\u001b[39m \u001b[38;5;28;01mimport\u001b[39;00m\u001b[38;5;250m \u001b[39m\u001b[34;01mtorch\u001b[39;00m\u001b[34;01m.\u001b[39;00m\u001b[34;01moptim\u001b[39;00m\u001b[38;5;250m \u001b[39m\u001b[38;5;28;01mas\u001b[39;00m\u001b[38;5;250m \u001b[39m\u001b[34;01moptim\u001b[39;00m\n",
      "\u001b[31mModuleNotFoundError\u001b[39m: No module named 'torch'"
     ]
    }
   ],
   "source": [
    "\n",
    "import pandas as pd\n",
    "import numpy as np\n",
    "import torch\n",
    "import torch.nn as nn\n",
    "import torch.optim as optim\n",
    "from bs4 import BeautifulSoup\n",
    "import requests"
   ]
  },
  {
   "cell_type": "markdown",
   "id": "72974470",
   "metadata": {},
   "source": []
  },
  {
   "cell_type": "code",
   "execution_count": null,
   "id": "700038cc",
   "metadata": {},
   "outputs": [],
   "source": [
    "def normalizza(val, vmin, vmax):\n",
    "    if vmax == vmin:\n",
    "        return 0\n",
    "    return (val - vmin) / (vmax - vmin)\n",
    "\n",
    "def convert_numeric_columns(df, exclude=[]):\n",
    "    for col in df.columns:\n",
    "        if col not in exclude:\n",
    "            df[col] = pd.to_numeric(df[col], errors='coerce')\n",
    "    return df.fillna(0)\n",
    "\n",
    "def prepare_tensors_for_day(df_features, df_votes, giornata, feat_cols):\n",
    "    df_day = df_features[df_features['Giornata'] == giornata].copy()\n",
    "    if df_day.empty:\n",
    "        return None\n",
    "    votes_day = df_votes[df_votes['Giornata'] == giornata][['Player','Voto']]\n",
    "    df_day = df_day.merge(votes_day, on='Player', how='left')\n",
    "    df_day['Voto'] = df_day['Voto'].fillna(0.0)\n",
    "    players = df_day['Player'].tolist()\n",
    "    pos = df_day['Pos'].tolist()\n",
    "    X = torch.tensor(df_day[feat_cols].values, dtype=torch.float32)\n",
    "    y = torch.tensor(df_day['Voto'].values, dtype=torch.float32)\n",
    "    X = (X - X.mean(0, keepdim=True)) / (X.std(0, keepdim=True) + 1e-6)\n",
    "    pos_idx = {}\n",
    "    ROLE_SLOTS = {'GK': 1, 'DF': 3, 'MF': 4, 'FW': 3}\n",
    "    for r in ROLE_SLOTS.keys():\n",
    "        pos_idx[r] = torch.tensor([i for i,p in enumerate(pos) if p.startswith(r)], dtype=torch.long)\n",
    "    return X, y, pos_idx, players"
   ]
  },
  {
   "cell_type": "code",
   "execution_count": null,
   "id": "d71a5d58",
   "metadata": {},
   "outputs": [],
   "source": [
    "class LinearScorer(nn.Module):\n",
    "    def __init__(self, n_features):\n",
    "        super().__init__()\n",
    "        self.w = nn.Parameter(torch.randn(n_features) * 0.01)\n",
    "        self.b = nn.Parameter(torch.tensor(0.0))\n",
    "    def forward(self, X):\n",
    "        return X.matmul(self.w) + self.b"
   ]
  },
  {
   "cell_type": "code",
   "execution_count": null,
   "id": "6393ddd1",
   "metadata": {},
   "outputs": [],
   "source": [
    "\n",
    "def expected_formation_vote(logits, y, pos_idx, role_slots, temp=0.1):\n",
    "    device = logits.device\n",
    "    total_expected = torch.tensor(0.0, device=device)\n",
    "    for role, k in role_slots.items():\n",
    "        idx = pos_idx.get(role)\n",
    "        if idx is None or idx.numel() == 0:\n",
    "            continue\n",
    "        logits_role = logits[idx]\n",
    "        probs = torch.softmax(logits_role / temp, dim=0)\n",
    "        p_scaled = probs * k\n",
    "        expected_role_vote = torch.sum(p_scaled * y[idx])\n",
    "        total_expected = total_expected + expected_role_vote\n",
    "    return total_expected"
   ]
  },
  {
   "cell_type": "code",
   "execution_count": null,
   "id": "aa77c8d5",
   "metadata": {},
   "outputs": [],
   "source": [
    "\n",
    "\n",
    "def train_weights(df_features, df_votes, feat_cols, train_giornate,\n",
    "                  role_slots={'GK':1,'DF':3,'MF':4,'FW':3},\n",
    "                  n_epochs=200, lr=0.05, temp=0.1, weight_decay=1e-4):\n",
    "    n_features = len(feat_cols)\n",
    "    model = LinearScorer(n_features)\n",
    "    optimizer = optim.Adam(model.parameters(), lr=lr, weight_decay=weight_decay)\n",
    "\n",
    "    for epoch in range(n_epochs):\n",
    "        epoch_loss = 0.0\n",
    "        count = 0\n",
    "        for g in train_giornate:\n",
    "            prepared = prepare_tensors_for_day(df_features, df_votes, g, feat_cols)\n",
    "            if prepared is None:\n",
    "                continue\n",
    "            X, y, pos_idx, players = prepared\n",
    "            logits = model(X)\n",
    "            expected_vote = expected_formation_vote(logits, y, pos_idx, role_slots, temp=temp)\n",
    "            loss = - expected_vote\n",
    "            optimizer.zero_grad()\n",
    "            loss.backward()\n",
    "            optimizer.step()\n",
    "            epoch_loss += loss.item()\n",
    "            count += 1\n",
    "        if (epoch+1) % 20 == 0 or epoch==0:\n",
    "            print(f\"Epoch {epoch+1}/{n_epochs} avg loss {epoch_loss/max(1,count):.4f}\")\n",
    "    return model"
   ]
  },
  {
   "cell_type": "code",
   "execution_count": null,
   "id": "fd4381b1",
   "metadata": {},
   "outputs": [],
   "source": [
    "def scrape_pianetafanta():\n",
    "    url = 'https://www.pianetafanta.it/voti-ufficiosi.asp'\n",
    "    r = requests.get(url, timeout=15)\n",
    "    tables = pd.read_html(r.text)\n",
    "    # Qui puoi filtrare la tabella giusta manualmente o con indice\n",
    "    df_votes = tables[0]  # esempio, modificare se necessario\n",
    "    # Aggiungi colonna 'Giornata' se mancante\n",
    "    df_votes['Giornata'] = 1  # esempio placeholder\n",
    "    df_votes.rename(columns={'Nome':'Player','Voto':'Voto'}, inplace=True)\n",
    "    return df_votes\n"
   ]
  },
  {
   "cell_type": "code",
   "execution_count": null,
   "id": "5f79eeee",
   "metadata": {},
   "outputs": [],
   "source": [
    "# Cell 7: Esempio di uso\n",
    "# feat_cols = ['Titolarità','Forma','BonusPot','Affidabilità','Calendario','Penalità']\n",
    "# train_giornate = sorted(df_features['Giornata'].unique())[:20]\n",
    "# model = train_weights(df_features, df_votes, feat_cols, train_giornate)"
   ]
  }
 ],
 "metadata": {
  "kernelspec": {
   "display_name": ".venv",
   "language": "python",
   "name": "python3"
  },
  "language_info": {
   "codemirror_mode": {
    "name": "ipython",
    "version": 3
   },
   "file_extension": ".py",
   "mimetype": "text/x-python",
   "name": "python",
   "nbconvert_exporter": "python",
   "pygments_lexer": "ipython3",
   "version": "3.12.11"
  }
 },
 "nbformat": 4,
 "nbformat_minor": 5
}
